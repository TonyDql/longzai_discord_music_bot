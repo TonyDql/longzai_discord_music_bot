{
 "cells": [
  {
   "cell_type": "markdown",
   "metadata": {},
   "source": [
    "# Terms of Service\n",
    "\n",
    "## Introduction\n",
    "Welcome to 龙仔 (Longzai)! By using our application, you agree to the following terms.\n",
    "\n",
    "## Acceptance of Terms\n",
    "By accessing and using 龙仔, you accept and agree to be bound by these terms. If you do not agree to these terms, please do not use the application.\n",
    "\n",
    "## Changes to Terms\n",
    "We reserve the right to modify these terms at any time. We will notify users of any changes via an announcement on the application or through email. Your continued use of the application after any such changes constitutes your acceptance of the new Terms of Service.\n",
    "\n",
    "## User Conduct\n",
    "Users agree not to use the application for any unlawful or prohibited activities. This includes but is not limited to:\n",
    "- Harassment, abuse, or harm towards others.\n",
    "- Violation of any applicable laws or regulations.\n",
    "- Unauthorized access to the application's systems or data.\n",
    "- Transmission of viruses, malware, or other harmful software.\n",
    "\n",
    "## Intellectual Property\n",
    "All content provided by 龙仔, including but not limited to text, graphics, logos, and software, remains the property of 龙仔 and its licensors. Users are not permitted to copy, distribute, modify, or create derivative works from any content found within the application without express permission.\n",
    "\n",
    "## Disclaimers and Limitation of Liability\n",
    "龙仔 is provided \"as is\" without any warranties, express or implied. We do not guarantee that the application will be available at all times or that it will be free from errors or interruptions. 龙仔 and its developers are not liable for any damages resulting from the use or inability to use the application, including but not limited to direct, indirect, incidental, or consequential damages.\n",
    "\n",
    "## Termination\n",
    "We reserve the right to terminate or suspend any user's access to the application at our discretion, without notice, for conduct that we believe violates these terms or is harmful to other users of the application, us, or third parties, or for any other reason.\n",
    "\n",
    "## Governing Law\n",
    "These terms are governed by and construed in accordance with the laws of Germany. Any disputes arising from or related to the use of the application shall be subject to the exclusive jurisdiction of the courts in Germany.\n",
    "\n",
    "## Contact Information\n",
    "For any questions or concerns about these Terms of Service, please contact us at td00dql@gmail.com.\n"
   ]
  }
 ],
 "metadata": {
  "language_info": {
   "name": "python"
  }
 },
 "nbformat": 4,
 "nbformat_minor": 2
}
